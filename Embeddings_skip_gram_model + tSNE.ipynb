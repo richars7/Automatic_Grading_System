{
 "cells": [
  {
   "cell_type": "code",
   "execution_count": 1,
   "metadata": {},
   "outputs": [],
   "source": [
    "import numpy as np\n",
    "import re \n",
    "import nltk\n",
    "import pandas as pd"
   ]
  },
  {
   "cell_type": "code",
   "execution_count": 5,
   "metadata": {},
   "outputs": [],
   "source": [
    "text1 = open(\"/Users/savita/Desktop/computeCost.txt\",\"r\") \n",
    "file_contents1 = text1.read()"
   ]
  },
  {
   "cell_type": "code",
   "execution_count": 6,
   "metadata": {},
   "outputs": [
    {
     "data": {
      "text/plain": [
       "'function J = computeCost(X, y, theta)\\n%COMPUTECOST Compute cost for linear regression\\n%   J = COMPUTECOST(X, y, theta) computes the cost of using theta as the\\n%   parameter for linear regression to fit the data points in X and y\\n\\n% Initialize some useful values\\nm = length(X); % number of training examples\\n% ====================== YOUR CODE HERE ======================\\n% Instructions: Compute the cost of a particular choice of theta\\n%               You should set J to the cost.\\nJ = 0;\\nJ=1/(2*m)*(sum(((X*theta)-y).^2));\\n% =========================================================================\\nend\\n\\n\\nfunction plotData(x, y)\\n%PLOTDATA Plots the data points x and y into a new figure \\n%   PLOTDATA(x,y) plots the data points and gives the figure axes labels of\\n%   population and profit.\\n\\nfigure; % open a new figure window\\n\\n% ====================== YOUR CODE HERE ======================\\n% Instructions: Plot the training data into a figure using the \\n%               \"figure\" and \"plot\" commands. Set the axes labels using\\n%               the \"xlabel\" and \"ylabel\" commands. Assume the \\n%               population and revenue data have been passed in\\n%               as the x and y arguments of this function.\\nplot(x,y,\\'rx\\',\\'MarkerSize\\',10);\\nxlabel(\\'x-values\\');\\nylabel(\\'y-values\\');\\n%\\n% Hint: You can use the \\'rx\\' option with plot to have the markers\\n%       appear as red crosses. Furthermore, you can make the\\n%       markers larger by using plot(..., \\'rx\\', \\'MarkerSize\\', 10);\\n% ============================================================\\nend\\n\\nfunction [theta, J_history] = gradientDescent(X, y, theta, alpha, num_iters)\\n%GRADIENTDESCENT Performs gradient descent to learn theta\\n%   theta = GRADIENTDESCENT(X, y, theta, alpha, num_iters) updates theta by \\n%   taking num_iters gradient steps with learning rate alpha\\n\\n% Initialize some useful values\\nm = length(X); % number of training examples\\nJ_history = zeros(num_iters, 1);\\n\\nfor iter = 1:num_iters\\n    % ====================== YOUR CODE HERE ======================\\n    % Instructions: Perform a single gradient step on the parameter vector\\n    %               theta. \\n    %\\n    % Hint: While debugging, it can be useful to print out the values\\n    %       of the cost function (computeCost) and gradient here.\\n    dell=(1/m)*((X*theta-y)\\' * X)\\';\\n    theta = theta - (alpha * dell);  \\n    % ============================================================\\n    % Save the cost J in every iteration    \\n    J_history(iter) = computeCost(X, y, theta);\\nend\\n\\nend'"
      ]
     },
     "execution_count": 6,
     "metadata": {},
     "output_type": "execute_result"
    }
   ],
   "source": [
    "file_contents1"
   ]
  },
  {
   "cell_type": "code",
   "execution_count": 7,
   "metadata": {},
   "outputs": [],
   "source": [
    "\n",
    "clean_text1 = re.sub(r'%(.*)\\n','',file_contents1)\n",
    "clean_text1 = re.sub(r'\\s+',' ',clean_text1)"
   ]
  },
  {
   "cell_type": "code",
   "execution_count": 8,
   "metadata": {},
   "outputs": [
    {
     "data": {
      "text/plain": [
       "\"function J = computeCost(X, y, theta) m = length(X); J = 0; J=1/(2*m)*(sum(((X*theta)-y).^2)); end function plotData(x, y) figure; plot(x,y,'rx','MarkerSize',10); xlabel('x-values'); ylabel('y-values'); end function [theta, J_history] = gradientDescent(X, y, theta, alpha, num_iters) m = length(X); J_history = zeros(num_iters, 1); for iter = 1:num_iters dell=(1/m)*((X*theta-y)' * X)'; theta = theta - (alpha * dell); J_history(iter) = computeCost(X, y, theta); end end\""
      ]
     },
     "execution_count": 8,
     "metadata": {},
     "output_type": "execute_result"
    }
   ],
   "source": [
    "clean_text1"
   ]
  },
  {
   "cell_type": "code",
   "execution_count": 10,
   "metadata": {},
   "outputs": [
    {
     "data": {
      "text/plain": [
       "['function',\n",
       " 'J',\n",
       " '=',\n",
       " 'computeCost',\n",
       " '(',\n",
       " 'X',\n",
       " ',',\n",
       " 'y',\n",
       " ',',\n",
       " 'theta',\n",
       " ')',\n",
       " 'm',\n",
       " '=',\n",
       " 'length',\n",
       " '(',\n",
       " 'X',\n",
       " ')',\n",
       " ';',\n",
       " 'J',\n",
       " '=',\n",
       " '0',\n",
       " ';',\n",
       " 'J=1/',\n",
       " '(',\n",
       " '2*m',\n",
       " ')',\n",
       " '*',\n",
       " '(',\n",
       " 'sum',\n",
       " '(',\n",
       " '(',\n",
       " '(',\n",
       " 'X*theta',\n",
       " ')',\n",
       " '-y',\n",
       " ')',\n",
       " '.^2',\n",
       " ')',\n",
       " ')',\n",
       " ';',\n",
       " 'end',\n",
       " 'function',\n",
       " 'plotData',\n",
       " '(',\n",
       " 'x',\n",
       " ',',\n",
       " 'y',\n",
       " ')',\n",
       " 'figure',\n",
       " ';',\n",
       " 'plot',\n",
       " '(',\n",
       " 'x',\n",
       " ',',\n",
       " 'y',\n",
       " ',',\n",
       " \"'rx\",\n",
       " \"'\",\n",
       " ',',\n",
       " \"'MarkerSize',10\",\n",
       " ')',\n",
       " ';',\n",
       " 'xlabel',\n",
       " '(',\n",
       " \"'x-values\",\n",
       " \"'\",\n",
       " ')',\n",
       " ';',\n",
       " 'ylabel',\n",
       " '(',\n",
       " \"'y-values\",\n",
       " \"'\",\n",
       " ')',\n",
       " ';',\n",
       " 'end',\n",
       " 'function',\n",
       " '[',\n",
       " 'theta',\n",
       " ',',\n",
       " 'J_history',\n",
       " ']',\n",
       " '=',\n",
       " 'gradientDescent',\n",
       " '(',\n",
       " 'X',\n",
       " ',',\n",
       " 'y',\n",
       " ',',\n",
       " 'theta',\n",
       " ',',\n",
       " 'alpha',\n",
       " ',',\n",
       " 'num_iters',\n",
       " ')',\n",
       " 'm',\n",
       " '=',\n",
       " 'length',\n",
       " '(',\n",
       " 'X',\n",
       " ')',\n",
       " ';',\n",
       " 'J_history',\n",
       " '=',\n",
       " 'zeros',\n",
       " '(',\n",
       " 'num_iters',\n",
       " ',',\n",
       " '1',\n",
       " ')',\n",
       " ';',\n",
       " 'for',\n",
       " 'iter',\n",
       " '=',\n",
       " '1',\n",
       " ':',\n",
       " 'num_iters',\n",
       " 'dell=',\n",
       " '(',\n",
       " '1/m',\n",
       " ')',\n",
       " '*',\n",
       " '(',\n",
       " '(',\n",
       " 'X*theta-y',\n",
       " ')',\n",
       " \"'\",\n",
       " '*',\n",
       " 'X',\n",
       " ')',\n",
       " \"'\",\n",
       " ';',\n",
       " 'theta',\n",
       " '=',\n",
       " 'theta',\n",
       " '-',\n",
       " '(',\n",
       " 'alpha',\n",
       " '*',\n",
       " 'dell',\n",
       " ')',\n",
       " ';',\n",
       " 'J_history',\n",
       " '(',\n",
       " 'iter',\n",
       " ')',\n",
       " '=',\n",
       " 'computeCost',\n",
       " '(',\n",
       " 'X',\n",
       " ',',\n",
       " 'y',\n",
       " ',',\n",
       " 'theta',\n",
       " ')',\n",
       " ';',\n",
       " 'end',\n",
       " 'end']"
      ]
     },
     "execution_count": 10,
     "metadata": {},
     "output_type": "execute_result"
    }
   ],
   "source": [
    "words = nltk.word_tokenize(clean_text1)\n",
    "words"
   ]
  },
  {
   "cell_type": "code",
   "execution_count": 11,
   "metadata": {},
   "outputs": [
    {
     "name": "stdout",
     "output_type": "stream",
     "text": [
      "Total words in text: 157\n",
      "Unique words: 49\n"
     ]
    }
   ],
   "source": [
    "# print some stats about this word data\n",
    "print(\"Total words in text: {}\".format(len(words)))\n",
    "print(\"Unique words: {}\".format(len(set(words)))) # `set` removes any duplicate words"
   ]
  },
  {
   "cell_type": "code",
   "execution_count": 15,
   "metadata": {},
   "outputs": [],
   "source": [
    "from collections import Counter\n",
    "\n",
    "def preprocess(text):\n",
    "\n",
    "    # Replace punctuation with tokens so we can use them in our model\n",
    "    text = text.lower()\n",
    "    text = text.replace('.', ' <PERIOD> ')\n",
    "    text = text.replace(',', ' <COMMA> ')\n",
    "    text = text.replace('\"', ' <QUOTATION_MARK> ')\n",
    "    text = text.replace(';', ' <SEMICOLON> ')\n",
    "    text = text.replace('!', ' <EXCLAMATION_MARK> ')\n",
    "    text = text.replace('?', ' <QUESTION_MARK> ')\n",
    "    text = text.replace('(', ' <LEFT_PAREN> ')\n",
    "    text = text.replace(')', ' <RIGHT_PAREN> ')\n",
    "    text = text.replace('--', ' <HYPHENS> ')\n",
    "    text = text.replace('?', ' <QUESTION_MARK> ')\n",
    "    text = text.replace('\\n', ' <NEW_LINE> ')\n",
    "    text = text.replace(':', ' <COLON> ')\n",
    "    words = text.split()\n",
    "    \n",
    "    # Remove all words with  5 or fewer occurences\n",
    "    word_counts = Counter(words)\n",
    "    trimmed_words = [word for word in words if word_counts[word] > 5]\n",
    "\n",
    "    return trimmed_words\n",
    "\n",
    "\n",
    "def create_lookup_tables(words):\n",
    "    \"\"\"\n",
    "    Create lookup tables for vocabulary\n",
    "    :param words: Input list of words\n",
    "    :return: Two dictionaries, vocab_to_int, int_to_vocab\n",
    "    \"\"\"\n",
    "    word_counts = Counter(words)\n",
    "    # sorting the words from most to least frequent in text occurrence\n",
    "    sorted_vocab = sorted(word_counts, key=word_counts.get, reverse=True)\n",
    "    # create int_to_vocab dictionaries\n",
    "    int_to_vocab = {ii: word for ii, word in enumerate(sorted_vocab)}\n",
    "    vocab_to_int = {word: ii for ii, word in int_to_vocab.items()}\n",
    "\n",
    "    return vocab_to_int, int_to_vocab"
   ]
  },
  {
   "cell_type": "code",
   "execution_count": 33,
   "metadata": {},
   "outputs": [
    {
     "name": "stdout",
     "output_type": "stream",
     "text": [
      "157\n"
     ]
    }
   ],
   "source": [
    "vocab_to_int, int_to_vocab = create_lookup_tables(words)\n",
    "int_words = [vocab_to_int[word] for word in words]\n",
    "\n",
    "print(len(int_words))"
   ]
  },
  {
   "cell_type": "code",
   "execution_count": 18,
   "metadata": {},
   "outputs": [],
   "source": [
    "def get_target(words, idx, window_size=5):\n",
    "    ''' Get a list of words in a window around an index. '''\n",
    "    \n",
    "    R = np.random.randint(1, window_size+1)\n",
    "    start = idx - R if (idx - R) > 0 else 0\n",
    "    stop = idx + R\n",
    "    target_words = words[start:idx] + words[idx+1:stop+1]\n",
    "    \n",
    "    return list(target_words)"
   ]
  },
  {
   "cell_type": "code",
   "execution_count": 76,
   "metadata": {},
   "outputs": [
    {
     "name": "stdout",
     "output_type": "stream",
     "text": [
      "Input:  [0, 1, 2, 3, 4, 5, 6, 7, 8, 9]\n",
      "Target:  [1, 2, 3, 4, 6, 7, 8, 9]\n"
     ]
    }
   ],
   "source": [
    "int_text = [i for i in range(10)]\n",
    "print('Input: ', int_text)\n",
    "idx=5 # word index of interest\n",
    "\n",
    "target = get_target(int_text, idx=idx, window_size=5)\n",
    "print('Target: ', target)  "
   ]
  },
  {
   "cell_type": "code",
   "execution_count": 20,
   "metadata": {},
   "outputs": [],
   "source": [
    "\n",
    "def get_batches(words, batch_size, window_size=5):\n",
    "    ''' Create a generator of word batches as a tuple (inputs, targets) '''\n",
    "    \n",
    "    n_batches = len(words)//batch_size\n",
    "    \n",
    "    # only full batches\n",
    "    words = words[:n_batches*batch_size]\n",
    "    \n",
    "    for idx in range(0, len(words), batch_size):\n",
    "        x, y = [], []\n",
    "        batch = words[idx:idx+batch_size]\n",
    "        for ii in range(len(batch)):\n",
    "            batch_x = batch[ii]\n",
    "            batch_y = get_target(batch, ii, window_size)\n",
    "            y.extend(batch_y)\n",
    "            x.extend([batch_x]*len(batch_y))\n",
    "        yield x, y"
   ]
  },
  {
   "cell_type": "code",
   "execution_count": 21,
   "metadata": {},
   "outputs": [
    {
     "name": "stdout",
     "output_type": "stream",
     "text": [
      "x\n",
      " [0, 1, 1, 1, 2, 2, 2, 3, 3, 3]\n",
      "y\n",
      " [1, 0, 2, 3, 0, 1, 3, 0, 1, 2]\n"
     ]
    }
   ],
   "source": [
    "int_text = [i for i in range(20)]\n",
    "x,y = next(get_batches(int_text, batch_size=4, window_size=5))\n",
    "\n",
    "print('x\\n', x)\n",
    "print('y\\n', y)"
   ]
  },
  {
   "cell_type": "code",
   "execution_count": 57,
   "metadata": {},
   "outputs": [],
   "source": [
    "import random\n",
    "def cosine_similarity(embedding, valid_size=4, valid_window=10):\n",
    "    \"\"\" Returns the cosine similarity of validation words with words in the embedding matrix.\n",
    "        Here, embedding should be a PyTorch embedding module.\n",
    "    \"\"\"\n",
    "    \n",
    "    # Here we're calculating the cosine similarity between some random words and \n",
    "    # our embedding vectors. With the similarities, we can look at what words are\n",
    "    # close to our random words.\n",
    "    \n",
    "    # sim = (a . b) / |a||b|\n",
    "    \n",
    "    embed_vectors = embedding.weight\n",
    "    \n",
    "    # magnitude of embedding vectors, |b|\n",
    "    magnitudes = embed_vectors.pow(2).sum(dim=1).sqrt().unsqueeze(0)\n",
    "    \n",
    "    # pick N words from our ranges (0,window) and (10,10+window). lower id implies more frequent \n",
    "    valid_examples = np.array(random.sample(range(valid_window), valid_size//2))\n",
    "    valid_examples = np.append(valid_examples,random.sample(range(10,10+valid_window), valid_size//2))\n",
    "    valid_examples = torch.LongTensor(valid_examples)\n",
    "    \n",
    "    valid_vectors = embedding(valid_examples)\n",
    "    similarities = torch.mm(valid_vectors, embed_vectors.t())/magnitudes\n",
    "        \n",
    "    return valid_examples, similarities"
   ]
  },
  {
   "cell_type": "code",
   "execution_count": 23,
   "metadata": {},
   "outputs": [],
   "source": [
    "import torch\n",
    "from torch import nn\n",
    "import torch.optim as optim"
   ]
  },
  {
   "cell_type": "code",
   "execution_count": 24,
   "metadata": {},
   "outputs": [],
   "source": [
    "class SkipGram(nn.Module):\n",
    "    def __init__(self, n_vocab, n_embed):\n",
    "        super().__init__()\n",
    "        \n",
    "        self.embed = nn.Embedding(n_vocab, n_embed)\n",
    "        self.output = nn.Linear(n_embed, n_vocab)\n",
    "        self.log_softmax = nn.LogSoftmax(dim=1)\n",
    "    \n",
    "    def forward(self, x):\n",
    "        x = self.embed(x)\n",
    "        scores = self.output(x)\n",
    "        log_ps = self.log_softmax(scores)\n",
    "        \n",
    "        return log_ps"
   ]
  },
  {
   "cell_type": "code",
   "execution_count": 38,
   "metadata": {},
   "outputs": [
    {
     "data": {
      "text/plain": [
       "[11,\n",
       " 14,\n",
       " 4,\n",
       " 15,\n",
       " 0,\n",
       " 5,\n",
       " 2,\n",
       " 7,\n",
       " 2,\n",
       " 6,\n",
       " 1,\n",
       " 16,\n",
       " 4,\n",
       " 17,\n",
       " 0,\n",
       " 5,\n",
       " 1,\n",
       " 3,\n",
       " 14,\n",
       " 4,\n",
       " 22,\n",
       " 3,\n",
       " 23,\n",
       " 0,\n",
       " 24,\n",
       " 1,\n",
       " 9,\n",
       " 0,\n",
       " 25,\n",
       " 0,\n",
       " 0,\n",
       " 0,\n",
       " 26,\n",
       " 1,\n",
       " 27,\n",
       " 1,\n",
       " 28,\n",
       " 1,\n",
       " 1,\n",
       " 3,\n",
       " 10,\n",
       " 11,\n",
       " 29,\n",
       " 0,\n",
       " 18,\n",
       " 2,\n",
       " 7,\n",
       " 1,\n",
       " 30,\n",
       " 3,\n",
       " 31,\n",
       " 0,\n",
       " 18,\n",
       " 2,\n",
       " 7,\n",
       " 2,\n",
       " 32,\n",
       " 8,\n",
       " 2,\n",
       " 33,\n",
       " 1,\n",
       " 3,\n",
       " 34,\n",
       " 0,\n",
       " 35,\n",
       " 8,\n",
       " 1,\n",
       " 3,\n",
       " 36,\n",
       " 0,\n",
       " 37,\n",
       " 8,\n",
       " 1,\n",
       " 3,\n",
       " 10,\n",
       " 11,\n",
       " 38,\n",
       " 6,\n",
       " 2,\n",
       " 12,\n",
       " 39,\n",
       " 4,\n",
       " 40,\n",
       " 0,\n",
       " 5,\n",
       " 2,\n",
       " 7,\n",
       " 2,\n",
       " 6,\n",
       " 2,\n",
       " 19,\n",
       " 2,\n",
       " 13,\n",
       " 1,\n",
       " 16,\n",
       " 4,\n",
       " 17,\n",
       " 0,\n",
       " 5,\n",
       " 1,\n",
       " 3,\n",
       " 12,\n",
       " 4,\n",
       " 41,\n",
       " 0,\n",
       " 13,\n",
       " 2,\n",
       " 20,\n",
       " 1,\n",
       " 3,\n",
       " 42,\n",
       " 21,\n",
       " 4,\n",
       " 20,\n",
       " 43,\n",
       " 13,\n",
       " 44,\n",
       " 0,\n",
       " 45,\n",
       " 1,\n",
       " 9,\n",
       " 0,\n",
       " 0,\n",
       " 46,\n",
       " 1,\n",
       " 8,\n",
       " 9,\n",
       " 5,\n",
       " 1,\n",
       " 8,\n",
       " 3,\n",
       " 6,\n",
       " 4,\n",
       " 6,\n",
       " 47,\n",
       " 0,\n",
       " 19,\n",
       " 9,\n",
       " 48,\n",
       " 1,\n",
       " 3,\n",
       " 12,\n",
       " 0,\n",
       " 21,\n",
       " 1,\n",
       " 4,\n",
       " 15,\n",
       " 0,\n",
       " 5,\n",
       " 2,\n",
       " 7,\n",
       " 2,\n",
       " 6,\n",
       " 1,\n",
       " 3,\n",
       " 10,\n",
       " 10]"
      ]
     },
     "execution_count": 38,
     "metadata": {},
     "output_type": "execute_result"
    }
   ],
   "source": [
    "int_words"
   ]
  },
  {
   "cell_type": "code",
   "execution_count": 62,
   "metadata": {},
   "outputs": [
    {
     "name": "stdout",
     "output_type": "stream",
     "text": [
      "' | dell, m, 2*m, 'y-values, J_history, iter, 1, ], -\n",
      "theta | (, X*theta-y, -, iter, ], ', length, J, x\n",
      "length | alpha, x, gradientDescent, ,, .^2, [, J=1/, *, zeros\n",
      "function | for, -y, ;, plotData, X, sum, 1, y, plot\n",
      "...\n",
      ") | :, *, J, =, iter, y, length, ;, num_iters\n",
      "; | num_iters, plotData, end, function, -y, for, 'MarkerSize',10, X*theta, plot\n",
      "end | ;, for, num_iters, *, plot, 'y-values, 'MarkerSize',10, .^2, plotData\n",
      "x | [, length, dell=, J, 0, zeros, J=1/, *, ylabel\n",
      "...\n",
      "; | num_iters, plotData, end, function, -y, for, 'MarkerSize',10, X*theta, plot\n",
      "' | dell, m, 2*m, 'y-values, iter, J_history, 1, ], -\n",
      "function | for, -y, ;, plotData, X, sum, 1, y, plot\n",
      "end | ;, for, num_iters, *, plot, 'y-values, 'MarkerSize',10, .^2, plotData\n",
      "...\n",
      "= | y, J, for, ), dell=, function, [, -y, 1\n",
      "; | num_iters, plotData, end, function, -y, for, 'MarkerSize',10, X*theta, plot\n",
      "x | [, length, dell=, J, 0, zeros, J=1/, *, ylabel\n",
      "J_history | ], y, 1, ', X*theta, 2*m, 'x-values, sum, iter\n",
      "...\n",
      "X | 0, computeCost, 1/m, ,, plotData, function, J=1/, zeros, sum\n",
      "; | num_iters, plotData, end, -y, function, for, 'MarkerSize',10, X*theta, plot\n",
      "J_history | ], y, 1, X*theta, ', 2*m, sum, 'x-values, iter\n",
      "length | alpha, x, gradientDescent, ,, [, .^2, J=1/, *, zeros\n",
      "...\n",
      "; | num_iters, plotData, end, -y, function, for, X*theta, 'MarkerSize',10, plot\n",
      ") | :, *, J, =, iter, y, length, ;, num_iters\n",
      "x | [, length, dell=, J, 0, zeros, J=1/, *, ylabel\n",
      "num_iters | ;, end, *, 'MarkerSize',10, for, 'y-values, -y, figure, .^2\n",
      "...\n",
      "y | =, 1, 'x-values, 'y-values, J_history, for, ], function, 2*m\n",
      "* | num_iters, end, :, ), 'MarkerSize',10, figure, x, length, J\n",
      "alpha | length, zeros, J=1/, [, gradientDescent, x, computeCost, 'rx, .^2\n",
      "length | alpha, x, gradientDescent, ,, [, .^2, J=1/, *, zeros\n",
      "...\n",
      "* | num_iters, end, :, ), 'MarkerSize',10, figure, x, length, J\n",
      "; | num_iters, plotData, end, -y, function, for, X*theta, 'MarkerSize',10, plot\n",
      "end | ;, num_iters, for, *, plot, 'y-values, 'MarkerSize',10, .^2, plotData\n",
      "alpha | length, zeros, J=1/, [, gradientDescent, x, computeCost, 'rx, .^2\n",
      "...\n",
      ") | :, *, J, =, iter, y, ;, num_iters, length\n",
      "X | 0, computeCost, 1/m, plotData, ,, function, J=1/, zeros, sum\n",
      "num_iters | ;, end, *, 'MarkerSize',10, for, 'y-values, -y, figure, .^2\n",
      "function | for, -y, ;, plotData, X, sum, y, 1, plot\n",
      "...\n",
      ") | :, *, J, =, iter, y, ;, num_iters, length\n",
      "; | num_iters, plotData, end, -y, function, for, X*theta, 'MarkerSize',10, plot\n",
      "length | alpha, x, gradientDescent, ,, [, .^2, J=1/, *, zeros\n",
      "computeCost | (, X, 1/m, m, J=1/, xlabel, plotData, 0, function\n",
      "...\n",
      "theta | (, X*theta-y, -, iter, ], ', J, length, computeCost\n",
      "* | num_iters, end, :, ), 'MarkerSize',10, figure, x, J, length\n",
      "J_history | ], y, 1, X*theta, 2*m, ', sum, 'x-values, iter\n",
      "computeCost | (, X, 1/m, m, J=1/, xlabel, plotData, 0, function\n",
      "...\n",
      "* | num_iters, end, :, ), 'MarkerSize',10, figure, x, J, length\n",
      "theta | (, X*theta-y, -, iter, ], ', J, length, computeCost\n",
      "J_history | ], y, 1, X*theta, 2*m, ', sum, 'x-values, iter\n",
      "num_iters | ;, end, *, 'MarkerSize',10, for, 'y-values, -y, figure, .^2\n",
      "...\n",
      "y | =, 1, J_history, 'x-values, 'y-values, for, function, ], J\n",
      "; | num_iters, plotData, end, -y, function, for, X*theta, 'MarkerSize',10, plot\n",
      "function | for, -y, ;, plotData, X, y, sum, 1, plot\n",
      "computeCost | (, X, 1/m, m, J=1/, xlabel, plotData, 0, function\n",
      "...\n",
      "y | =, 1, J_history, 'x-values, 'y-values, for, function, ], J\n",
      ", | 1/m, 'rx, X, 0, X*theta, length, iter, m, J\n",
      "m | X*theta, xlabel, plot, ', computeCost, plotData, .^2, 2*m, dell\n",
      "J | 1/m, 0, x, ), [, =, ,, y, X*theta-y\n",
      "...\n",
      "( | theta, computeCost, X*theta-y, 1/m, xlabel, 0, -, X, J\n",
      "theta | (, X*theta-y, -, iter, ], ', J, computeCost, length\n",
      "computeCost | (, X, 1/m, m, J=1/, xlabel, plotData, 0, function\n",
      "J | 1/m, 0, x, ), =, [, ,, y, X*theta-y\n",
      "...\n"
     ]
    }
   ],
   "source": [
    "embedding_dim= 10 #change\n",
    "model = SkipGram(len(vocab_to_int), embedding_dim)\n",
    "criterion = nn.NLLLoss()\n",
    "optimizer = optim.Adam(model.parameters(), lr=0.003)\n",
    "\n",
    "print_every = 5\n",
    "steps = 0\n",
    "epochs = 5\n",
    "\n",
    "# train for some number of epochs\n",
    "for e in range(epochs):\n",
    "    \n",
    "    # get input and target batches\n",
    "    for inputs, targets in get_batches(int_words, 10):\n",
    "        steps += 1\n",
    "        inputs, targets = torch.LongTensor(inputs), torch.LongTensor(targets)\n",
    "        \n",
    "        log_ps = model(inputs)\n",
    "        loss = criterion(log_ps, targets)\n",
    "        optimizer.zero_grad()\n",
    "        loss.backward()\n",
    "        optimizer.step()\n",
    "\n",
    "        if steps % print_every == 0:                  \n",
    "            # getting examples and similarities      \n",
    "            valid_examples, valid_similarities = cosine_similarity(model.embed)\n",
    "            _, closest_idxs = valid_similarities.topk(10) # topk highest similarities\n",
    "            \n",
    "            valid_examples, closest_idxs = valid_examples.to('cpu'), closest_idxs.to('cpu')\n",
    "            for ii, valid_idx in enumerate(valid_examples):\n",
    "                closest_words = [int_to_vocab[idx.item()] for idx in closest_idxs[ii]][1:]\n",
    "                print(int_to_vocab[valid_idx.item()] + \" | \" + ', '.join(closest_words))\n",
    "            print(\"...\")"
   ]
  },
  {
   "cell_type": "code",
   "execution_count": 63,
   "metadata": {},
   "outputs": [],
   "source": [
    "import matplotlib.pyplot as plt\n",
    "from sklearn.manifold import TSNE"
   ]
  },
  {
   "cell_type": "code",
   "execution_count": 64,
   "metadata": {},
   "outputs": [],
   "source": [
    "# getting embeddings from the embedding layer of our model, by name\n",
    "embeddings = model.embed.weight.data.numpy()\n"
   ]
  },
  {
   "cell_type": "code",
   "execution_count": 65,
   "metadata": {},
   "outputs": [],
   "source": [
    "viz_words = 49\n",
    "tsne = TSNE()\n",
    "embed_tsne = tsne.fit_transform(embeddings[:viz_words, :])"
   ]
  },
  {
   "cell_type": "code",
   "execution_count": 81,
   "metadata": {},
   "outputs": [
    {
     "data": {
      "image/png": "[encoded data removed]",
      "text/plain": [
       "<matplotlib.figure.Figure at 0x109a489b0>"
      ]
     },
     "metadata": {},
     "output_type": "display_data"
    }
   ],
   "source": [
    "fig, ax = plt.subplots(figsize=(10, 10))\n",
    "for idx in range(viz_words):\n",
    "    plt.scatter(*embed_tsne[idx, :], color='green')\n",
    "    plt.annotate(int_to_vocab[idx], (embed_tsne[idx, 0], embed_tsne[idx, 1]), alpha=0.7)"
   ]
  },
  {
   "cell_type": "code",
   "execution_count": 59,
   "metadata": {},
   "outputs": [
    {
     "data": {
      "text/plain": [
       "array([[ 1.80546379e+00, -9.00213480e-01,  9.09346461e-01,\n",
       "        -1.91489267e+00, -1.99725404e-01,  4.39329892e-01,\n",
       "         9.17826951e-01, -6.59476280e-01,  1.15143991e+00,\n",
       "         3.88973981e-01],\n",
       "       [-1.01758409e+00, -7.88062334e-01, -1.63952816e+00,\n",
       "        -1.02467227e+00, -1.59895286e-01,  5.11408269e-01,\n",
       "         1.69364110e-01,  5.81069946e-01, -2.59137303e-01,\n",
       "         1.66950488e+00],\n",
       "       [ 1.03105195e-01, -6.83049679e-01, -7.45564461e-01,\n",
       "         4.66781437e-01,  1.55189347e+00, -5.45668006e-01,\n",
       "        -3.47683281e-01, -1.47559595e+00,  1.05594385e+00,\n",
       "        -1.93945706e-01],\n",
       "       [-7.09247768e-01, -6.52522445e-01, -1.14431596e+00,\n",
       "        -6.96879923e-01, -4.10652518e-01,  5.55199087e-01,\n",
       "        -2.15772629e+00, -5.88433564e-01, -6.92677081e-01,\n",
       "        -5.09123445e-01],\n",
       "       [ 5.84614754e-01,  7.42961913e-02,  1.45808494e+00,\n",
       "        -3.21177006e-01, -2.99197566e-02,  3.80562633e-01,\n",
       "        -2.18275452e+00, -1.05370677e+00,  7.08050251e-01,\n",
       "         1.56618401e-01],\n",
       "       [-2.17108186e-02, -2.58149594e-01,  9.41511333e-01,\n",
       "         3.57119977e-01, -2.90382177e-01,  2.15176478e-01,\n",
       "        -4.14722651e-01,  7.49173522e-01,  9.87964511e-01,\n",
       "         3.97549868e-01],\n",
       "       [-1.73093587e-01, -1.70795262e+00,  1.13323322e-02,\n",
       "         2.11301160e+00,  9.68564987e-01,  3.65144014e-01,\n",
       "        -5.61157465e-01, -7.84303010e-01,  8.32252443e-01,\n",
       "        -1.55973065e+00],\n",
       "       [ 4.81909811e-01,  1.61254978e+00, -1.12233222e+00,\n",
       "        -9.83873010e-02, -4.12274003e-01, -8.85814190e-01,\n",
       "        -1.25404704e+00,  1.30498314e+00, -4.45715934e-01,\n",
       "        -1.08563304e+00],\n",
       "       [-6.71211302e-01,  1.43321645e+00,  8.06181788e-01,\n",
       "         4.56942707e-01,  4.75368738e-01, -9.28577542e-01,\n",
       "         1.63489175e+00, -3.76531221e-02, -1.04876125e+00,\n",
       "         8.69837850e-02],\n",
       "       [ 1.07016575e+00, -2.01229596e+00,  2.15221763e-01,\n",
       "         4.63036537e-01,  5.77238798e-01,  8.00301909e-01,\n",
       "         2.92159200e-01, -1.54212847e-01,  3.63786310e-01,\n",
       "        -4.27203357e-01],\n",
       "       [ 7.30004311e-02,  1.03696561e+00,  4.88781691e-01,\n",
       "         9.60435092e-01,  3.55991155e-01, -7.52506554e-02,\n",
       "         2.99800426e-01, -1.15684164e+00,  7.81131923e-01,\n",
       "         2.49848977e-01],\n",
       "       [ 1.24155033e+00,  7.21164584e-01, -8.11565697e-01,\n",
       "         2.38578767e-01,  7.40984797e-01, -6.52935505e-01,\n",
       "        -9.74295318e-01, -1.39462817e+00,  4.13891263e-02,\n",
       "         3.70593131e-01],\n",
       "       [-1.11205387e+00, -2.33467674e+00,  1.41161430e+00,\n",
       "        -4.83965427e-01, -1.33968222e+00,  1.57236123e+00,\n",
       "         1.48961055e+00, -1.33974516e+00, -2.80710459e-01,\n",
       "         9.45631742e-01],\n",
       "       [ 7.89927840e-02,  1.44024026e+00,  9.27651107e-01,\n",
       "         1.18890536e+00,  1.62036538e+00,  1.97827339e+00,\n",
       "         1.97061312e+00,  1.10030562e-01, -9.50090826e-01,\n",
       "         4.49971408e-01],\n",
       "       [ 1.31338859e+00, -6.51339173e-01,  1.19381726e+00,\n",
       "        -2.31693655e-01, -1.45253074e+00,  2.43814707e-01,\n",
       "         1.54456913e+00,  1.50158262e+00,  9.92167056e-01,\n",
       "         6.99256063e-01],\n",
       "       [ 1.32255822e-01, -1.05184329e+00, -1.97662145e-01,\n",
       "        -1.27596986e+00,  3.54864866e-01,  2.98676759e-01,\n",
       "         1.71368885e+00,  1.21475995e+00, -1.09302640e+00,\n",
       "        -3.68979961e-01],\n",
       "       [-2.23336160e-01, -8.49303663e-01,  1.19528830e+00,\n",
       "        -6.36817276e-01, -1.68250179e+00, -3.51826340e-01,\n",
       "        -3.78319144e-01, -1.57680929e+00,  2.12271619e+00,\n",
       "        -2.69109726e+00],\n",
       "       [-6.27037823e-01,  1.19112480e+00,  2.34985948e+00,\n",
       "        -2.45213079e+00, -2.53912985e-01,  1.84149933e+00,\n",
       "        -1.24426830e+00, -1.00033975e+00,  1.85141516e+00,\n",
       "        -1.86555251e-01],\n",
       "       [ 4.32646483e-01,  1.41662669e+00,  1.32387865e+00,\n",
       "         1.24577589e-01,  9.87705410e-01,  6.03345394e-01,\n",
       "         1.47790551e+00, -1.48183241e-01, -5.16367555e-01,\n",
       "         5.55141270e-01],\n",
       "       [-1.89952195e-01,  1.73316467e+00,  4.37038600e-01,\n",
       "         1.03612399e+00,  2.25323379e-01, -1.40438330e+00,\n",
       "         1.46950197e+00, -1.69782853e+00,  9.09316540e-01,\n",
       "        -1.57120004e-01],\n",
       "       [ 9.15687382e-01,  8.16959500e-01, -7.82156467e-01,\n",
       "         1.64704311e+00,  1.29076421e+00, -3.70029509e-02,\n",
       "         4.77682292e-01, -1.92021921e-01,  6.22665361e-02,\n",
       "        -2.42820323e-01],\n",
       "       [ 3.46569270e-01, -1.46882892e-01, -1.39171779e+00,\n",
       "         1.26313075e-01,  1.92632034e-01,  2.80344439e+00,\n",
       "        -8.84415388e-01,  2.65063941e-01,  2.31022775e-01,\n",
       "         2.08109570e+00],\n",
       "       [ 4.44833338e-01,  8.57153833e-01,  1.31725097e+00,\n",
       "        -1.92919374e+00,  2.12322995e-01, -6.64657056e-01,\n",
       "         1.34714651e+00,  8.57752562e-01,  4.70338315e-02,\n",
       "        -7.71822870e-01],\n",
       "       [ 2.91406542e-01,  2.88251430e-01,  2.72165537e+00,\n",
       "         1.15226537e-01, -1.30945289e+00,  1.71203649e+00,\n",
       "        -3.74898612e-01, -2.97098786e-01,  9.97358561e-01,\n",
       "         1.66822350e+00],\n",
       "       [ 1.04128683e+00, -5.53396903e-02, -1.42950284e+00,\n",
       "        -6.33591294e-01,  3.05842519e-01, -4.28909391e-01,\n",
       "        -1.26216197e+00, -3.31426203e-01,  1.90961793e-01,\n",
       "         1.77001882e+00],\n",
       "       [ 2.39828110e+00,  9.55464244e-01, -1.36672556e-01,\n",
       "         8.39736223e-01, -1.27899742e+00, -1.12622952e+00,\n",
       "         1.67427158e+00, -8.03819392e-03, -6.39377177e-01,\n",
       "         5.35442233e-01],\n",
       "       [ 1.43023300e+00,  7.97933936e-01,  3.22948217e-01,\n",
       "        -1.03228617e+00,  8.14385265e-02,  1.64783642e-01,\n",
       "         8.38870481e-02, -2.21310353e+00, -9.62865710e-01,\n",
       "         2.07164669e+00],\n",
       "       [ 1.74108613e-02, -1.13577664e+00,  1.29557812e+00,\n",
       "        -1.91835389e-01, -8.95731449e-01, -5.58825195e-01,\n",
       "        -1.21054852e+00, -1.00546813e+00,  1.88250951e-02,\n",
       "         1.50913104e-01],\n",
       "       [-8.55412602e-01, -3.94674748e-01,  2.23759592e-01,\n",
       "        -2.19839498e-01, -3.08075896e-03, -8.55950564e-02,\n",
       "        -1.08096910e+00, -1.52345687e-01, -1.41230083e+00,\n",
       "         1.44184172e+00],\n",
       "       [-2.42001951e-01, -1.11340070e+00, -6.56918049e-01,\n",
       "        -1.06226289e+00, -2.27626920e-01,  1.35111582e+00,\n",
       "        -8.09076667e-01, -1.00201882e-01, -7.10646808e-02,\n",
       "        -1.58266521e+00],\n",
       "       [ 2.24200392e+00,  1.68970060e+00, -6.10360503e-01,\n",
       "        -1.06010354e+00,  1.01403046e+00, -1.28507292e+00,\n",
       "         7.09343255e-01, -1.93836093e+00,  1.99039114e+00,\n",
       "         8.42033565e-01],\n",
       "       [ 5.47548383e-02,  9.68523473e-02,  9.86761332e-01,\n",
       "        -1.15867555e+00, -6.28063858e-01, -6.18384659e-01,\n",
       "        -2.41128027e-01,  6.31296992e-01,  2.23092616e-01,\n",
       "        -1.24092042e+00],\n",
       "       [-5.49329259e-02,  1.59265769e+00,  1.51056409e-01,\n",
       "         3.57400745e-01, -2.59353489e-01, -9.75620151e-01,\n",
       "        -1.09076560e+00,  1.16599810e+00,  3.84756982e-01,\n",
       "        -6.09859049e-01],\n",
       "       [ 6.36785746e-01,  1.91658020e+00, -4.35958356e-02,\n",
       "        -4.45538908e-01,  8.91965404e-02, -1.10717332e+00,\n",
       "        -1.03267014e+00, -9.78266597e-01,  5.36961675e-01,\n",
       "        -1.28364491e+00],\n",
       "       [ 9.37029541e-01, -4.38395619e-01,  1.35054779e+00,\n",
       "        -3.71715248e-01,  4.11263347e-01, -6.49830282e-01,\n",
       "        -5.72115369e-03, -6.34661853e-01, -1.52189791e+00,\n",
       "         6.76352620e-01],\n",
       "       [ 2.61958212e-01,  7.02867746e-01,  2.36061826e-01,\n",
       "         3.19951415e-01, -1.86725721e-01,  3.80665720e-01,\n",
       "        -1.69939435e+00,  2.79452562e-01, -6.40525877e-01,\n",
       "        -1.25730908e+00],\n",
       "       [ 1.18187867e-01, -1.04482543e+00,  1.73035872e+00,\n",
       "        -1.41583180e+00, -3.42983514e-01,  1.36493993e+00,\n",
       "        -3.42159569e-01, -9.18597400e-01,  3.96489769e-01,\n",
       "        -6.82107329e-01],\n",
       "       [-1.11819899e+00, -1.73251063e-03, -2.50461310e-01,\n",
       "        -4.48412299e-02,  1.37676056e-02, -5.83296299e-01,\n",
       "        -9.49713886e-01,  5.84981382e-01,  7.00750768e-01,\n",
       "        -4.99153167e-01],\n",
       "       [ 1.12610705e-01, -1.44047529e-01,  1.53761059e-01,\n",
       "         8.94247353e-01,  1.20614398e+00, -1.15193856e+00,\n",
       "         5.39392650e-01, -2.84409356e+00,  1.40599906e+00,\n",
       "         7.04612792e-01],\n",
       "       [ 3.53339374e-01, -2.61489630e+00,  5.13222635e-01,\n",
       "         4.57770735e-01,  1.80803871e+00, -7.07799673e-01,\n",
       "         1.02491331e+00,  1.37949049e+00, -1.57402408e+00,\n",
       "        -2.19035402e-01],\n",
       "       [ 2.95497149e-01,  2.25338742e-01, -5.67651428e-02,\n",
       "        -4.34224233e-02, -1.17223275e+00, -1.25406480e+00,\n",
       "         8.67027581e-01, -1.99813735e+00, -1.57395601e-01,\n",
       "         1.55254185e+00],\n",
       "       [ 5.11515021e-01, -1.62346378e-01,  3.06395013e-02,\n",
       "        -3.05287689e-01,  5.83256543e-01, -2.37960190e-01,\n",
       "         4.05673832e-01,  6.90919757e-01,  6.94305122e-01,\n",
       "         1.07954526e+00],\n",
       "       [-1.19456625e+00, -3.43361586e-01, -4.93486345e-01,\n",
       "         2.97306571e-02, -4.49036926e-01, -4.85654026e-01,\n",
       "        -1.13045990e+00, -7.67758191e-01,  5.94162308e-02,\n",
       "        -3.16500545e-01],\n",
       "       [-4.02151197e-01,  1.32175729e-01, -4.78642970e-01,\n",
       "        -1.53388843e-01,  1.61449885e+00,  1.72906086e-01,\n",
       "         2.37830353e+00, -1.65750873e+00, -1.15991783e+00,\n",
       "        -2.15777799e-01],\n",
       "       [-1.27849951e-01,  4.69798297e-01,  8.80769134e-01,\n",
       "        -4.22321618e-01,  4.99976844e-01,  1.52625310e+00,\n",
       "         1.65794045e-02, -9.99372840e-01,  3.44801433e-02,\n",
       "         1.70852101e+00],\n",
       "       [-1.47805798e+00,  1.36709139e-01, -6.81251168e-01,\n",
       "         1.45969748e-01,  4.46715951e-01, -3.60217422e-01,\n",
       "         1.97704363e+00, -3.41366261e-01, -9.24237609e-01,\n",
       "        -4.53948379e-01],\n",
       "       [ 9.49367404e-01,  1.23380625e+00,  1.04134786e+00,\n",
       "        -7.49997675e-01,  9.63511109e-01,  6.87118292e-01,\n",
       "        -2.21119933e-02, -7.49827623e-01, -4.29959804e-01,\n",
       "         1.25443363e+00],\n",
       "       [ 9.50467050e-01, -8.01622033e-01, -5.45704365e-01,\n",
       "        -3.34545434e-01, -3.13230515e-01, -1.32542837e+00,\n",
       "         4.77538317e-01,  4.20441747e-01, -1.61244452e+00,\n",
       "        -1.69844389e-01],\n",
       "       [-1.35157180e+00,  4.18538004e-01, -1.04657483e+00,\n",
       "        -2.89092779e-01, -8.11061144e-01,  1.12478507e+00,\n",
       "        -1.41919351e+00, -5.71819127e-01, -4.33967024e-01,\n",
       "        -4.76801038e-01]], dtype=float32)"
      ]
     },
     "execution_count": 59,
     "metadata": {},
     "output_type": "execute_result"
    }
   ],
   "source": [
    "embeddings"
   ]
  },
  {
   "cell_type": "code",
   "execution_count": 69,
   "metadata": {},
   "outputs": [
    {
     "data": {
      "text/plain": [
       "SkipGram(\n",
       "  (embed): Embedding(49, 10)\n",
       "  (output): Linear(in_features=10, out_features=49, bias=True)\n",
       "  (log_softmax): LogSoftmax()\n",
       ")"
      ]
     },
     "execution_count": 69,
     "metadata": {},
     "output_type": "execute_result"
    }
   ],
   "source": [
    "model"
   ]
  },
  {
   "cell_type": "code",
   "execution_count": 71,
   "metadata": {},
   "outputs": [
    {
     "name": "stdout",
     "output_type": "stream",
     "text": [
      "Our model: \n",
      "\n",
      " SkipGram(\n",
      "  (embed): Embedding(49, 10)\n",
      "  (output): Linear(in_features=10, out_features=49, bias=True)\n",
      "  (log_softmax): LogSoftmax()\n",
      ") \n",
      "\n",
      "The state dict keys: \n",
      "\n",
      " odict_keys(['embed.weight', 'output.weight', 'output.bias'])\n"
     ]
    }
   ],
   "source": [
    "print(\"Our model: \\n\\n\", model, '\\n')\n",
    "print(\"The state dict keys: \\n\\n\", model.state_dict().keys())"
   ]
  },
  {
   "cell_type": "code",
   "execution_count": 72,
   "metadata": {},
   "outputs": [],
   "source": [
    "torch.save(model.state_dict(), 'checkpoint.pth')"
   ]
  },
  {
   "cell_type": "code",
   "execution_count": 73,
   "metadata": {},
   "outputs": [
    {
     "name": "stdout",
     "output_type": "stream",
     "text": [
      "odict_keys(['embed.weight', 'output.weight', 'output.bias'])\n"
     ]
    }
   ],
   "source": [
    "state_dict = torch.load('checkpoint.pth')\n",
    "print(state_dict.keys())"
   ]
  },
  {
   "cell_type": "code",
   "execution_count": 74,
   "metadata": {},
   "outputs": [],
   "source": [
    "model.load_state_dict(state_dict)"
   ]
  },
  {
   "cell_type": "code",
   "execution_count": 77,
   "metadata": {},
   "outputs": [
    {
     "data": {
      "text/plain": [
       "<bound method Module.load_state_dict of SkipGram(\n",
       "  (embed): Embedding(49, 10)\n",
       "  (output): Linear(in_features=10, out_features=49, bias=True)\n",
       "  (log_softmax): LogSoftmax()\n",
       ")>"
      ]
     },
     "execution_count": 77,
     "metadata": {},
     "output_type": "execute_result"
    }
   ],
   "source": [
    "model.load_state_dict"
   ]
  },
  {
   "cell_type": "code",
   "execution_count": 78,
   "metadata": {},
   "outputs": [],
   "source": [
    "doc1 = \"function J = computeCost(X, y, theta) s = length(X); J = 0; J =1/(2*m)*(sum(((X*theta)-y))); end\""
   ]
  },
  {
   "cell_type": "code",
   "execution_count": 79,
   "metadata": {},
   "outputs": [],
   "source": [
    "doc2 = \"function J = computeCost(X, y, theta) m = length(X); J = 0; J=1/(2*m)*(sum(((X*theta)-y).^2)); end\""
   ]
  },
  {
   "cell_type": "code",
   "execution_count": null,
   "metadata": {},
   "outputs": [],
   "source": []
  }
 ],
 "metadata": {
  "kernelspec": {
   "display_name": "Python 3",
   "language": "python",
   "name": "python3"
  },
  "language_info": {
   "codemirror_mode": {
    "name": "ipython",
    "version": 3
   },
   "file_extension": ".py",
   "mimetype": "text/x-python",
   "name": "python",
   "nbconvert_exporter": "python",
   "pygments_lexer": "ipython3",
   "version": "3.6.4"
  }
 },
 "nbformat": 4,
 "nbformat_minor": 2
}
